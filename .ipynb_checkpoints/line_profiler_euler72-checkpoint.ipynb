{
 "cells": [
  {
   "cell_type": "code",
   "execution_count": 3,
   "id": "8a6b991a-4679-43a8-9bcc-7969ed97b326",
   "metadata": {},
   "outputs": [
    {
     "name": "stdout",
     "output_type": "stream",
     "text": [
      "Requirement already satisfied: line__profiler in c:\\users\\arezu\\appdata\\roaming\\python\\python312\\site-packages (4.2.0)Note: you may need to restart the kernel to use updated packages.\n",
      "\n"
     ]
    }
   ],
   "source": [
    "pip install --user line__profiler"
   ]
  },
  {
   "cell_type": "code",
   "execution_count": 5,
   "id": "5d2fa8d6-c551-4a38-8c51-8f307e87e4ca",
   "metadata": {},
   "outputs": [],
   "source": [
    "#Load the line_profiler Extension in Jupyter. This enables the %lprun magic command.\n",
    "%load_ext line_profiler "
   ]
  },
  {
   "cell_type": "code",
   "execution_count": 7,
   "id": "d8efd119-6611-40a0-a8a2-ce4c05a38d1b",
   "metadata": {},
   "outputs": [],
   "source": [
    "#!/usr/bin/python\n",
    "from math import ceil,sqrt"
   ]
  },
  {
   "cell_type": "code",
   "execution_count": 11,
   "id": "6becafae-2882-4abd-96a6-0dd888459666",
   "metadata": {},
   "outputs": [],
   "source": [
    "def gen_primes(n):\n",
    "    l = range(2,n)\n",
    "    primes = []\n",
    "    for j in range(0,len(l)):\n",
    "        p = True\n",
    "        for d in primes:\n",
    "            if(d > sqrt(l[j])):\n",
    "                break\n",
    "            if(l[j] % d == 0):\n",
    "                p = False\n",
    "                break;\n",
    "        if(p):\n",
    "            primes.append(l[j])\n",
    "\n",
    "    return primes"
   ]
  },
  {
   "cell_type": "code",
   "execution_count": 13,
   "id": "7752062d-c581-4be3-89df-c670eb9af397",
   "metadata": {},
   "outputs": [
    {
     "ename": "NameError",
     "evalue": "name 'n' is not defined",
     "output_type": "error",
     "traceback": [
      "\u001b[1;31m---------------------------------------------------------------------------\u001b[0m",
      "\u001b[1;31mNameError\u001b[0m                                 Traceback (most recent call last)",
      "Cell \u001b[1;32mIn[13], line 1\u001b[0m\n\u001b[1;32m----> 1\u001b[0m get_ipython()\u001b[38;5;241m.\u001b[39mrun_line_magic(\u001b[38;5;124m'\u001b[39m\u001b[38;5;124mlprun\u001b[39m\u001b[38;5;124m'\u001b[39m, \u001b[38;5;124m'\u001b[39m\u001b[38;5;124m-f gen_primes gen_primes(n)\u001b[39m\u001b[38;5;124m'\u001b[39m)\n",
      "File \u001b[1;32m~\\anaconda3\\envs\\j_env\\Lib\\site-packages\\IPython\\core\\interactiveshell.py:2480\u001b[0m, in \u001b[0;36mInteractiveShell.run_line_magic\u001b[1;34m(self, magic_name, line, _stack_depth)\u001b[0m\n\u001b[0;32m   2478\u001b[0m     kwargs[\u001b[38;5;124m'\u001b[39m\u001b[38;5;124mlocal_ns\u001b[39m\u001b[38;5;124m'\u001b[39m] \u001b[38;5;241m=\u001b[39m \u001b[38;5;28mself\u001b[39m\u001b[38;5;241m.\u001b[39mget_local_scope(stack_depth)\n\u001b[0;32m   2479\u001b[0m \u001b[38;5;28;01mwith\u001b[39;00m \u001b[38;5;28mself\u001b[39m\u001b[38;5;241m.\u001b[39mbuiltin_trap:\n\u001b[1;32m-> 2480\u001b[0m     result \u001b[38;5;241m=\u001b[39m fn(\u001b[38;5;241m*\u001b[39margs, \u001b[38;5;241m*\u001b[39m\u001b[38;5;241m*\u001b[39mkwargs)\n\u001b[0;32m   2482\u001b[0m \u001b[38;5;66;03m# The code below prevents the output from being displayed\u001b[39;00m\n\u001b[0;32m   2483\u001b[0m \u001b[38;5;66;03m# when using magics with decorator @output_can_be_silenced\u001b[39;00m\n\u001b[0;32m   2484\u001b[0m \u001b[38;5;66;03m# when the last Python token in the expression is a ';'.\u001b[39;00m\n\u001b[0;32m   2485\u001b[0m \u001b[38;5;28;01mif\u001b[39;00m \u001b[38;5;28mgetattr\u001b[39m(fn, magic\u001b[38;5;241m.\u001b[39mMAGIC_OUTPUT_CAN_BE_SILENCED, \u001b[38;5;28;01mFalse\u001b[39;00m):\n",
      "File \u001b[1;32m~\\AppData\\Roaming\\Python\\Python312\\site-packages\\line_profiler\\ipython_extension.py:130\u001b[0m, in \u001b[0;36mLineProfilerMagics.lprun\u001b[1;34m(self, parameter_s)\u001b[0m\n\u001b[0;32m    128\u001b[0m \u001b[38;5;28;01mtry\u001b[39;00m:\n\u001b[0;32m    129\u001b[0m     \u001b[38;5;28;01mtry\u001b[39;00m:\n\u001b[1;32m--> 130\u001b[0m         profile\u001b[38;5;241m.\u001b[39mrunctx(arg_str, global_ns, local_ns)\n\u001b[0;32m    131\u001b[0m         message \u001b[38;5;241m=\u001b[39m \u001b[38;5;124m\"\u001b[39m\u001b[38;5;124m\"\u001b[39m\n\u001b[0;32m    132\u001b[0m     \u001b[38;5;28;01mexcept\u001b[39;00m \u001b[38;5;167;01mSystemExit\u001b[39;00m:\n",
      "File \u001b[1;32m~\\AppData\\Roaming\\Python\\Python312\\site-packages\\line_profiler\\line_profiler.py:185\u001b[0m, in \u001b[0;36mLineProfiler.runctx\u001b[1;34m(self, cmd, globals, locals)\u001b[0m\n\u001b[0;32m    183\u001b[0m \u001b[38;5;28mself\u001b[39m\u001b[38;5;241m.\u001b[39menable_by_count()\n\u001b[0;32m    184\u001b[0m \u001b[38;5;28;01mtry\u001b[39;00m:\n\u001b[1;32m--> 185\u001b[0m     exec(cmd, \u001b[38;5;28mglobals\u001b[39m, \u001b[38;5;28mlocals\u001b[39m)\n\u001b[0;32m    186\u001b[0m \u001b[38;5;28;01mfinally\u001b[39;00m:\n\u001b[0;32m    187\u001b[0m     \u001b[38;5;28mself\u001b[39m\u001b[38;5;241m.\u001b[39mdisable_by_count()\n",
      "File \u001b[1;32m<string>:1\u001b[0m\n",
      "\u001b[1;31mNameError\u001b[0m: name 'n' is not defined"
     ]
    }
   ],
   "source": [
    "%lprun -f gen_primes gen_primes(n)"
   ]
  },
  {
   "cell_type": "code",
   "execution_count": null,
   "id": "cf5e91e4-44a8-4f23-8cd9-fc00c5916dca",
   "metadata": {},
   "outputs": [],
   "source": [
    "@profile\n",
    "def factorize(n,primes):\n",
    "    factors = []\n",
    "    init_n = n\n",
    "    for p in primes:\n",
    "        while(n%p == 0):\n",
    "            n = n/p\n",
    "            factors.append(p)\n",
    "        if(p > sqrt(n)):\n",
    "            break\n",
    "    if(n > 1):\n",
    "        factors.append(n)\n",
    "    return factors"
   ]
  },
  {
   "cell_type": "code",
   "execution_count": null,
   "id": "5545a22f-e9b2-4783-8893-28f43f4792e0",
   "metadata": {},
   "outputs": [],
   "source": [
    "def phi(n,primes):\n",
    "    factors = factorize(n,primes)\n",
    "    p = 1\n",
    "\n",
    "    for i in range(2,n):\n",
    "        flag = True\n",
    "        for f in factors:\n",
    "            if i%f == 0:\n",
    "                flag = False\n",
    "                break\n",
    "        if flag:\n",
    "            p+=1\n",
    "    return p"
   ]
  },
  {
   "cell_type": "code",
   "execution_count": null,
   "id": "3b0138ff-26ea-4ae7-962a-4b03b1816336",
   "metadata": {},
   "outputs": [],
   "source": [
    "@profile\n",
    "def fast_phi(n,primes):\n",
    "    factors = factorize(n,primes)\n",
    "    phi = factors[0]-1\n",
    "    for i in range(1,len(factors)):\n",
    "        if(factors[i] == factors[i-1]):\n",
    "            phi *= (factors[i]-1)*(factors[i])/(factors[i]-1)\n",
    "        else:\n",
    "            phi *= (factors[i]-1)\n",
    "    return phi"
   ]
  },
  {
   "cell_type": "code",
   "execution_count": null,
   "id": "b163bd89-12f1-4650-a4b1-069ad498544a",
   "metadata": {},
   "outputs": [],
   "source": [
    "primes = gen_primes(1000)\n",
    "m = 10000\n",
    "#m = 8\n",
    "fraq = 0\n",
    "for i in range(2,m+1):\n",
    "    fraq += fast_phi(i,primes)\n",
    "\n",
    "print(fraq)"
   ]
  },
  {
   "cell_type": "code",
   "execution_count": 3,
   "id": "fa0c2d96-0f46-4460-b25f-2b9715f78366",
   "metadata": {},
   "outputs": [
    {
     "ename": "SyntaxError",
     "evalue": "invalid syntax (3446931023.py, line 1)",
     "output_type": "error",
     "traceback": [
      "\u001b[1;36m  Cell \u001b[1;32mIn[3], line 1\u001b[1;36m\u001b[0m\n\u001b[1;33m    kernprof -l -v line_profiler_euler72.py\u001b[0m\n\u001b[1;37m                   ^\u001b[0m\n\u001b[1;31mSyntaxError\u001b[0m\u001b[1;31m:\u001b[0m invalid syntax\n"
     ]
    }
   ],
   "source": [
    "kernprof -l -v line_profiler_euler72.py"
   ]
  },
  {
   "cell_type": "code",
   "execution_count": null,
   "id": "648d59fa-800d-4141-b77d-dcf02f9edd2b",
   "metadata": {},
   "outputs": [],
   "source": []
  }
 ],
 "metadata": {
  "kernelspec": {
   "display_name": "Python [conda env:j_env]",
   "language": "python",
   "name": "conda-env-j_env-py"
  },
  "language_info": {
   "codemirror_mode": {
    "name": "ipython",
    "version": 3
   },
   "file_extension": ".py",
   "mimetype": "text/x-python",
   "name": "python",
   "nbconvert_exporter": "python",
   "pygments_lexer": "ipython3",
   "version": "3.12.9"
  }
 },
 "nbformat": 4,
 "nbformat_minor": 5
}
